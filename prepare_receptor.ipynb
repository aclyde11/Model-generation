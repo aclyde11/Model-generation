{
 "cells": [
  {
   "cell_type": "markdown",
   "metadata": {},
   "source": [
    "# Preparing the receptor"
   ]
  },
  {
   "cell_type": "code",
   "execution_count": 3,
   "metadata": {},
   "outputs": [],
   "source": [
    "from openeye import oechem, oedocking\n",
    "import sys, os"
   ]
  },
  {
   "cell_type": "code",
   "execution_count": 5,
   "metadata": {},
   "outputs": [],
   "source": [
    "ifs = oechem.oemolistream()\n",
    "ofs = oechem.oemolostream()"
   ]
  },
  {
   "cell_type": "code",
   "execution_count": 6,
   "metadata": {},
   "outputs": [],
   "source": [
    "com = oechem.OEGraphMol()\n",
    "if ifs.open(\"input/com_AXI.pdb\"):\n",
    "    oechem.OEReadPDBFile(ifs,com)\n",
    "    ifs.close()"
   ]
  },
  {
   "cell_type": "code",
   "execution_count": 10,
   "metadata": {},
   "outputs": [
    {
     "name": "stdout",
     "output_type": "stream",
     "text": [
      "Number of connected components: 2\n"
     ]
    }
   ],
   "source": [
    "# Find the connected components of the system, remove the ligand\n",
    "oechem.OEDetermineConnectivity(com)\n",
    "connect = oechem.OEDetermineComponents(com)\n",
    "\n",
    "print('Number of connected components:', connect[0])\n",
    "if connect[0] != 1:\n",
    "    # We assume that the last object is the ligand\n",
    "    res_ind = [i for i,x in enumerate(connect[1]) if x==connect[0]]"
   ]
  },
  {
   "cell_type": "markdown",
   "metadata": {},
   "source": [
    "This will break if the last connected component isn't the ligand\n",
    "I don't know what would happen if the protein has multiple chains.\n"
   ]
  },
  {
   "cell_type": "code",
   "execution_count": 11,
   "metadata": {},
   "outputs": [],
   "source": [
    "# Now iterate over these indices to create a box for docking\n",
    "x_min = y_min = z_min = float('inf')\n",
    "x_max = y_max = z_max = -float('inf')\n",
    "crd = [com.GetCoords()[i] for i in res_ind]\n",
    "for x,y,z in crd:\n",
    "    if x < x_min:\n",
    "        x_min = x\n",
    "    if y < y_min:\n",
    "        y_min = y\n",
    "    if z < z_min:\n",
    "        z_min = z\n",
    "    if x > x_max:\n",
    "        x_max = x\n",
    "    if y > y_max:\n",
    "        y_max = y\n",
    "    if z > z_max:\n",
    "        z_max = z"
   ]
  },
  {
   "cell_type": "code",
   "execution_count": null,
   "metadata": {},
   "outputs": [],
   "source": [
    "# Pad the box to be slightly larger than the existing molecule\n",
    "# My choice of padding by 2 Angstrom is arbitrary.\n",
    "x_min -= 2\n",
    "y_min -= 2\n",
    "z_min -= 2\n",
    "x_max += 2\n",
    "y_max += 2\n",
    "z_max += 2"
   ]
  },
  {
   "cell_type": "code",
   "execution_count": null,
   "metadata": {},
   "outputs": [],
   "source": [
    "# Now prepare the receptor\n",
    "receptor = oechem.OEGraphMol()\n",
    "box = oedocking.OEBox(x_max, y_max, z_max, x_min, y_min, z_min)\n",
    "oedocking.OEMakeReceptor(receptor, com, box)"
   ]
  },
  {
   "cell_type": "code",
   "execution_count": null,
   "metadata": {},
   "outputs": [],
   "source": [
    "# Clean the receptor as needed\n",
    "if oedocking.OEReceptorHasBoundLigand(receptor):\n",
    "    lig = oedocking.OEReceptorGetBoundLigand(receptor)\n",
    "    ofs = oechem.oemolostream(\"original_lig.mol2\")\n",
    "    oechem.OEWriteMolecule(ofs,lig)\n",
    "    ofs.close()\n",
    "    oedocking.OEReceptorClearBoundLigand(receptor)"
   ]
  },
  {
   "cell_type": "code",
   "execution_count": null,
   "metadata": {},
   "outputs": [],
   "source": [
    "oedocking.OEWriteReceptorFile(receptor,\"input/receptor.oeb\")"
   ]
  },
  {
   "cell_type": "markdown",
   "metadata": {},
   "source": [
    "Need to clean the receptor.\n",
    "Right now it's not recognizing the ligand, neither as a ligand nor as an extra molecule"
   ]
  }
 ],
 "metadata": {
  "kernelspec": {
   "display_name": "Python 3",
   "language": "python",
   "name": "python3"
  },
  "language_info": {
   "codemirror_mode": {
    "name": "ipython",
    "version": 3
   },
   "file_extension": ".py",
   "mimetype": "text/x-python",
   "name": "python",
   "nbconvert_exporter": "python",
   "pygments_lexer": "ipython3",
   "version": "3.7.3"
  }
 },
 "nbformat": 4,
 "nbformat_minor": 2
}
