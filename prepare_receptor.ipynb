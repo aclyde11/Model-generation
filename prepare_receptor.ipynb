{
 "cells": [
  {
   "cell_type": "markdown",
   "metadata": {},
   "source": [
    "# Preparing the receptor"
   ]
  },
  {
   "cell_type": "code",
   "execution_count": 2,
   "metadata": {},
   "outputs": [],
   "source": [
    "from openeye import oechem, oedocking\n",
    "import sys, os"
   ]
  },
  {
   "cell_type": "code",
   "execution_count": 4,
   "metadata": {},
   "outputs": [],
   "source": [
    "ifs = oechem.oemolistream()\n",
    "ofs = oechem.oemolostream()"
   ]
  },
  {
   "cell_type": "markdown",
   "metadata": {},
   "source": [
    "I need to deal with file paths better. Not totally sure how to do this in python"
   ]
  },
  {
   "cell_type": "code",
   "execution_count": 7,
   "metadata": {},
   "outputs": [],
   "source": [
    "com = oechem.OEGraphMol()\n",
    "if ifs.open(\"input/com_AXI.pdb\"):\n",
    "    oechem.OEReadPDBFile(ifs,com)\n",
    "    ifs.close()"
   ]
  },
  {
   "cell_type": "code",
   "execution_count": 8,
   "metadata": {},
   "outputs": [
    {
     "name": "stdout",
     "output_type": "stream",
     "text": [
      "Number of connected components: 2\n"
     ]
    }
   ],
   "source": [
    "# Find the connected components of the system, remove the ligand\n",
    "oechem.OEDetermineConnectivity(com)\n",
    "nparts, connect = oechem.OEDetermineComponents(com)\n",
    "\n",
    "print('Number of connected components:', nparts)"
   ]
  },
  {
   "cell_type": "markdown",
   "metadata": {},
   "source": [
    "This will break if the last connected component isn't the ligand, or if the protein has multiple chains.\n",
    "\n",
    "These could be fixed...\n"
   ]
  },
  {
   "cell_type": "code",
   "execution_count": 9,
   "metadata": {},
   "outputs": [],
   "source": [
    "# Separate the ligand                                                           \n",
    "pred = oechem.OEPartPredAtom(connect)\n",
    "pred.SelectPart(nparts)\n",
    "lig = oechem.OEGraphMol()\n",
    "oechem.OESubsetMol(lig, com, pred)\n",
    "\n",
    "if ofs.open(\"input/original_lig.mol2\"):\n",
    "    oechem.OEWriteMolecule(ofs,lig)\n",
    "    ofs.close()"
   ]
  },
  {
   "cell_type": "code",
   "execution_count": 10,
   "metadata": {},
   "outputs": [],
   "source": [
    "# Separate the protein                                        \n",
    "del pred\n",
    "pred = oechem.OEPartPredAtom(connect)\n",
    "pred.SelectPart(1)\n",
    "prot = oechem.OEGraphMol()\n",
    "oechem.OESubsetMol(prot, com, pred)\n",
    "\n",
    "if ofs.open(\"input/apo_protein.mol2\"):\n",
    "    oechem.OEWriteMolecule(ofs,prot)\n",
    "    ofs.close()"
   ]
  },
  {
   "cell_type": "code",
   "execution_count": 12,
   "metadata": {},
   "outputs": [],
   "source": [
    "# Now iterate over these indices to create a box for docking                    \n",
    "x_min = y_min = z_min = float('inf')\n",
    "x_max = y_max = z_max = -float('inf')\n",
    "crd = lig.GetCoords()\n",
    "for atm in crd:\n",
    "    x,y,z = crd[atm]\n",
    "    if x < x_min:\n",
    "        x_min = x\n",
    "    if y < y_min:\n",
    "        y_min = y\n",
    "    if z < z_min:\n",
    "        z_min = z\n",
    "    if x > x_max:\n",
    "        x_max = x\n",
    "    if y > y_max:\n",
    "        y_max = y\n",
    "    if z > z_max:\n",
    "        z_max = z"
   ]
  },
  {
   "cell_type": "code",
   "execution_count": 13,
   "metadata": {},
   "outputs": [],
   "source": [
    "# Pad the box to be slightly larger than the existing molecule\n",
    "# My choice of padding by 2 Angstrom is arbitrary.\n",
    "x_min -= 2\n",
    "y_min -= 2\n",
    "z_min -= 2\n",
    "x_max += 2\n",
    "y_max += 2\n",
    "z_max += 2"
   ]
  },
  {
   "cell_type": "code",
   "execution_count": 15,
   "metadata": {},
   "outputs": [
    {
     "data": {
      "text/plain": [
       "True"
      ]
     },
     "execution_count": 15,
     "metadata": {},
     "output_type": "execute_result"
    }
   ],
   "source": [
    "# Now prepare the receptor\n",
    "receptor = oechem.OEGraphMol()\n",
    "box = oedocking.OEBox(x_max, y_max, z_max, x_min, y_min, z_min)\n",
    "oedocking.OEMakeReceptor(receptor, prot, box)"
   ]
  },
  {
   "cell_type": "code",
   "execution_count": 19,
   "metadata": {},
   "outputs": [
    {
     "data": {
      "text/plain": [
       "True"
      ]
     },
     "execution_count": 19,
     "metadata": {},
     "output_type": "execute_result"
    }
   ],
   "source": [
    "oedocking.OEWriteReceptorFile(receptor,\"input/receptor.oeb\")"
   ]
  }
 ],
 "metadata": {
  "kernelspec": {
   "display_name": "Python 3",
   "language": "python",
   "name": "python3"
  },
  "language_info": {
   "codemirror_mode": {
    "name": "ipython",
    "version": 3
   },
   "file_extension": ".py",
   "mimetype": "text/x-python",
   "name": "python",
   "nbconvert_exporter": "python",
   "pygments_lexer": "ipython3",
   "version": "3.7.3"
  }
 },
 "nbformat": 4,
 "nbformat_minor": 2
}
